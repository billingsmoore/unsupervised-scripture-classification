{
 "cells": [
  {
   "attachments": {},
   "cell_type": "markdown",
   "metadata": {},
   "source": [
    "# Classification of Buddhist Scriptures Using Unsupervised Machine Learning\n",
    "## Introduction\n",
    "### Problem Statement\n",
    "Buddhism is one of the world's major religions. Its primary branches are Theravada, Mahayana, and Vajrayana. These branches can be distinguished by, among many other features, which scriptures they accept as legitimate. Theravada is the most conservative in this respect, accepting the smallest set of scriptures. Mahayana accepts a larger set of scriptures. Vajrayana is the most liberal, accepting all of the scriptures of the Theravada, Mahayana, and an additional set unique to Vajrayana.\n",
    "Historians of religion, and religious practitioners, debate the historical origins of these branches and frequently when new texts are discovered by archaeologists, there is a question as to which branch these text belong. Machine learning methods can help us to categorize these texts in a way that may avoid both the possible sectarian divisions of practitioners and the possibly mistaken assumptions of historians.\n",
    "Thus, this project seeks to use unsupervised machine learning methods to categorize a group of texts as either Theravada, Mahayana, or Vajrayana.\n",
    "\n",
    "### Data\n",
    "I have collected excerpts from texts associated with each branch, saved as theravada-excerpts.txt, mahayana-excerpts.txt, and vajrayana-excerpts.txt. These excerpts are taken from scriptures that are taken by domain excerpts to be representative of the textual tradition of each branch. For each branch, the excerpts are taken from four separate texts in chunks of about 200 lines. "
   ]
  },
  {
   "attachments": {},
   "cell_type": "markdown",
   "metadata": {},
   "source": [
    "## Preprocessing\n",
    "First, I've loaded in the texts below and gotten a word count. We can see that there are a roughly equal number of words  (~5000) in each of the sets of excerpts. This is what we want for modeling purposes."
   ]
  },
  {
   "cell_type": "code",
   "execution_count": 93,
   "metadata": {},
   "outputs": [
    {
     "name": "stdout",
     "output_type": "stream",
     "text": [
      "Theravada Excerpts Word Count:5094\n",
      "Mahayana Excerpts Word Count:4885\n",
      "Vajrayana Excerpts Word Count:4863\n"
     ]
    }
   ],
   "source": [
    "with open('theravada-excerpts.txt', 'r') as excerpts:\n",
    "    theravada = excerpts.read().split(' ')\n",
    "\n",
    "print('Theravada Excerpts Word Count:' + str(len(theravada)))\n",
    "\n",
    "with open('mahayana-excerpts.txt', 'r') as excerpts:\n",
    "    mahayana = excerpts.read().split(' ')\n",
    "\n",
    "print('Mahayana Excerpts Word Count:' + str(len(mahayana)))\n",
    "\n",
    "with open('vajrayana-excerpts.txt', 'r') as excerpts:\n",
    "    vajrayana = excerpts.read().split(' ')\n",
    "\n",
    "print('Vajrayana Excerpts Word Count:' + str(len(vajrayana)))"
   ]
  },
  {
   "attachments": {},
   "cell_type": "markdown",
   "metadata": {},
   "source": [
    "Next, I'll split the sets of excerpts into chunks of 200 words to act as the samples in our data. "
   ]
  },
  {
   "cell_type": "code",
   "execution_count": 94,
   "metadata": {},
   "outputs": [],
   "source": [
    "theravada_chunks = []\n",
    "mahayana_chunks = []\n",
    "vajrayana_chunks = []\n",
    "\n",
    "for i in range(0,len(theravada) - 199, 200):\n",
    "    theravada_chunks.append(' '.join(theravada[i:i+199]))\n",
    "\n",
    "for i in range(0,len(mahayana) - 199, 200):\n",
    "    mahayana_chunks.append(' '.join(mahayana[i:i+199]))\n",
    "\n",
    "for i in range(0,len(vajrayana) - 199, 200):\n",
    "    vajrayana_chunks.append(' '.join(vajrayana[i:i+199]))"
   ]
  },
  {
   "attachments": {},
   "cell_type": "markdown",
   "metadata": {},
   "source": [
    "We can now construct our initial dataframe of text excerpts and category labels. I will use 0 for Theravada, 1 for Mahayana, and 2 for Vajrayana."
   ]
  },
  {
   "cell_type": "code",
   "execution_count": 95,
   "metadata": {},
   "outputs": [],
   "source": [
    "import pandas as pd"
   ]
  },
  {
   "cell_type": "code",
   "execution_count": 96,
   "metadata": {},
   "outputs": [
    {
     "data": {
      "text/html": [
       "<div>\n",
       "<style scoped>\n",
       "    .dataframe tbody tr th:only-of-type {\n",
       "        vertical-align: middle;\n",
       "    }\n",
       "\n",
       "    .dataframe tbody tr th {\n",
       "        vertical-align: top;\n",
       "    }\n",
       "\n",
       "    .dataframe thead th {\n",
       "        text-align: right;\n",
       "    }\n",
       "</style>\n",
       "<table border=\"1\" class=\"dataframe\">\n",
       "  <thead>\n",
       "    <tr style=\"text-align: right;\">\n",
       "      <th></th>\n",
       "      <th>text</th>\n",
       "      <th>branch</th>\n",
       "    </tr>\n",
       "  </thead>\n",
       "  <tbody>\n",
       "    <tr>\n",
       "      <th>0</th>\n",
       "      <td>THUS HAVE I HEARD. On one occasion the Blessed...</td>\n",
       "      <td>0</td>\n",
       "    </tr>\n",
       "    <tr>\n",
       "      <th>1</th>\n",
       "      <td>undisciplined in their\\n92 Sabbllsava Sutta: S...</td>\n",
       "      <td>0</td>\n",
       "    </tr>\n",
       "    <tr>\n",
       "      <th>2</th>\n",
       "      <td>in him and the arisen\\ntaint ~f ignorance is a...</td>\n",
       "      <td>0</td>\n",
       "    </tr>\n",
       "    <tr>\n",
       "      <th>3</th>\n",
       "      <td>or the view 'I perceive not-\\nself with self' ...</td>\n",
       "      <td>0</td>\n",
       "    </tr>\n",
       "    <tr>\n",
       "      <th>4</th>\n",
       "      <td>\"What are the things unfit for attention that ...</td>\n",
       "      <td>0</td>\n",
       "    </tr>\n",
       "  </tbody>\n",
       "</table>\n",
       "</div>"
      ],
      "text/plain": [
       "                                                text  branch\n",
       "0  THUS HAVE I HEARD. On one occasion the Blessed...       0\n",
       "1  undisciplined in their\\n92 Sabbllsava Sutta: S...       0\n",
       "2  in him and the arisen\\ntaint ~f ignorance is a...       0\n",
       "3  or the view 'I perceive not-\\nself with self' ...       0\n",
       "4  \"What are the things unfit for attention that ...       0"
      ]
     },
     "execution_count": 96,
     "metadata": {},
     "output_type": "execute_result"
    }
   ],
   "source": [
    "th_data = {'text':theravada_chunks, 'branch': [0]*(len(theravada_chunks))}\n",
    "th_df = pd.DataFrame(th_data)\n",
    "\n",
    "ma_data = {'text': mahayana_chunks, 'branch': [1]*(len(mahayana_chunks))}\n",
    "ma_df = pd.DataFrame(ma_data)\n",
    "\n",
    "va_data = {'text':vajrayana_chunks, 'branch': [2]*(len(vajrayana_chunks))}\n",
    "va_df = pd.DataFrame(va_data)\n",
    "\n",
    "df = pd.concat([th_df, ma_df, va_df])\n",
    "\n",
    "df.head()"
   ]
  },
  {
   "attachments": {},
   "cell_type": "markdown",
   "metadata": {},
   "source": [
    "## Quantifying the Text\n",
    "Now that we have a dataframe of our text, we can start turning it into something quantifiable for modeling. I will use two approaches here. The first is the frequency analysis that we are already familiar with. The second is sentiment analysis.\n",
    "\n",
    "### Frequency Analysis"
   ]
  },
  {
   "attachments": {},
   "cell_type": "markdown",
   "metadata": {},
   "source": [
    "Below, I have used TfidVectorizer to get the word frequencies out of the set of texts. \n",
    "\n",
    "Because the texts sometimes use jargon drawn from Pali, Sanksrit, and Tibetan, the text is not necessarily friendly to process. To accomodate this, I have set decode_error to 'ignore'. This will tell the vectorizer to ignore any characters that it can not parse at all. I have also set strip_accents to 'unicode', so that the accent marks that are common in these languages can be more easily handled.\n",
    "\n",
    "Because it is a small data set and performance is not a big concern, I have limited max_features to 20 and set the n-gram range to (1,5). The n-gram range will thus look for the frequencies of single words as well as phrases of up to 5 words.\n",
    "\n",
    "Finally, I have set sublinear_tf to True. This tells the vectorizer to return the log value of the frequencies. This is to accomodate Zipf's Law which tells us that word frequency is exponential. Making this change should make our modeling a little more reliable, without unduly weighting anything. \n",
    "\n",
    "I then simplify this frequency matrix using Truncated Singular Value Decomposition, to reduce the number of dimensions to 2 in order to perform some data exploration."
   ]
  },
  {
   "cell_type": "code",
   "execution_count": 97,
   "metadata": {},
   "outputs": [],
   "source": [
    "from sklearn.feature_extraction.text import TfidfVectorizer\n",
    "from sklearn.decomposition import TruncatedSVD"
   ]
  },
  {
   "cell_type": "code",
   "execution_count": 98,
   "metadata": {},
   "outputs": [],
   "source": [
    "freq_matrix = TfidfVectorizer(decode_error='ignore', strip_accents='unicode',max_features=20, ngram_range=(1,5), sublinear_tf=True).fit_transform(df['text']).toarray()"
   ]
  },
  {
   "cell_type": "code",
   "execution_count": 99,
   "metadata": {},
   "outputs": [],
   "source": [
    "tsvd = TruncatedSVD(n_components=5).fit_transform(freq_matrix)"
   ]
  },
  {
   "cell_type": "code",
   "execution_count": 101,
   "metadata": {},
   "outputs": [],
   "source": [
    "for i in range(5):\n",
    "    name =('tsvd_' + str(i))\n",
    "    df[name] = [el[i] for el in tsvd.tolist()]"
   ]
  },
  {
   "attachments": {},
   "cell_type": "markdown",
   "metadata": {},
   "source": [
    "#### Frequency Clustering Visualization\n",
    "We can see in the visualization below, that even just looking at the two dimensional reduced matrix, there is a noticeable degree of clustering happening in our data."
   ]
  },
  {
   "cell_type": "code",
   "execution_count": null,
   "metadata": {},
   "outputs": [],
   "source": [
    "import seaborn as sns"
   ]
  },
  {
   "cell_type": "code",
   "execution_count": 102,
   "metadata": {},
   "outputs": [
    {
     "data": {
      "text/plain": [
       "<AxesSubplot:xlabel='tsvd_0', ylabel='tsvd_1'>"
      ]
     },
     "execution_count": 102,
     "metadata": {},
     "output_type": "execute_result"
    },
    {
     "data": {
      "image/png": "[encoded data removed]",
      "text/plain": [
       "<Figure size 432x288 with 1 Axes>"
      ]
     },
     "metadata": {
      "needs_background": "light"
     },
     "output_type": "display_data"
    }
   ],
   "source": [
    "sns.scatterplot(\n",
    "    data=df,\n",
    "    x= 'tsvd_0',\n",
    "    y= 'tsvd_1',\n",
    "    hue='branch',\n",
    "    palette='colorblind',\n",
    "    style='branch'\n",
    ")"
   ]
  },
  {
   "attachments": {},
   "cell_type": "markdown",
   "metadata": {},
   "source": [
    "### Sentiment Analysis\n",
    "\n",
    "Now that frequency analysis is complete, I'll perform the Sentiment Analysis. Below, I have processed the texts using SentimentIntensityAnalyzer from the nltk python library. The SIA returns for each text a dictionary of scores: 'neg' representing how negative the text is; 'pos' representing how positive the text is; 'neu' representing how neutral the text is; and 'compound' which is compound score which summarizes the other three. These scores are assigned based on a lexicon of pre-designated positive, negative, and neutral words. Here I have used the 'vader' lexicon that nltk provides."
   ]
  },
  {
   "cell_type": "code",
   "execution_count": null,
   "metadata": {},
   "outputs": [
    {
     "name": "stderr",
     "output_type": "stream",
     "text": [
      "[nltk_data] Downloading package vader_lexicon to /home/j/nltk_data...\n",
      "[nltk_data]   Package vader_lexicon is already up-to-date!\n"
     ]
    },
    {
     "data": {
      "text/plain": [
       "True"
      ]
     },
     "execution_count": 82,
     "metadata": {},
     "output_type": "execute_result"
    }
   ],
   "source": [
    "import nltk\n",
    "from nltk.sentiment import SentimentIntensityAnalyzer\n",
    "nltk.download('vader_lexicon')"
   ]
  },
  {
   "cell_type": "code",
   "execution_count": 103,
   "metadata": {},
   "outputs": [],
   "source": [
    "sentiments = []\n",
    "sia = SentimentIntensityAnalyzer()\n",
    "for text in df['text']:\n",
    "    sentiment = sia.polarity_scores(text)\n",
    "    sentiments.append(sentiment)\n",
    "\n",
    "sent_df = pd.DataFrame(sentiments)\n",
    "\n",
    "df['neg'] = sent_df['neg']\n",
    "df['pos'] = sent_df['pos']\n",
    "df['neu'] = sent_df['neu']\n",
    "df['compound'] = sent_df['compound']"
   ]
  },
  {
   "attachments": {},
   "cell_type": "markdown",
   "metadata": {},
   "source": [
    "I've append both the reduced matrix and the sentiment scores to the data frame now and we can see this below."
   ]
  },
  {
   "cell_type": "code",
   "execution_count": 104,
   "metadata": {},
   "outputs": [
    {
     "data": {
      "text/html": [
       "<div>\n",
       "<style scoped>\n",
       "    .dataframe tbody tr th:only-of-type {\n",
       "        vertical-align: middle;\n",
       "    }\n",
       "\n",
       "    .dataframe tbody tr th {\n",
       "        vertical-align: top;\n",
       "    }\n",
       "\n",
       "    .dataframe thead th {\n",
       "        text-align: right;\n",
       "    }\n",
       "</style>\n",
       "<table border=\"1\" class=\"dataframe\">\n",
       "  <thead>\n",
       "    <tr style=\"text-align: right;\">\n",
       "      <th></th>\n",
       "      <th>text</th>\n",
       "      <th>branch</th>\n",
       "      <th>tsvd_0</th>\n",
       "      <th>tsvd_1</th>\n",
       "      <th>tsvd_2</th>\n",
       "      <th>tsvd_3</th>\n",
       "      <th>tsvd_4</th>\n",
       "      <th>neg</th>\n",
       "      <th>pos</th>\n",
       "      <th>neu</th>\n",
       "      <th>compound</th>\n",
       "    </tr>\n",
       "  </thead>\n",
       "  <tbody>\n",
       "    <tr>\n",
       "      <th>0</th>\n",
       "      <td>THUS HAVE I HEARD. On one occasion the Blessed...</td>\n",
       "      <td>0</td>\n",
       "      <td>0.845376</td>\n",
       "      <td>-0.014098</td>\n",
       "      <td>0.266427</td>\n",
       "      <td>-0.303229</td>\n",
       "      <td>-0.062466</td>\n",
       "      <td>0.130</td>\n",
       "      <td>0.091</td>\n",
       "      <td>0.778</td>\n",
       "      <td>-0.8299</td>\n",
       "    </tr>\n",
       "    <tr>\n",
       "      <th>1</th>\n",
       "      <td>undisciplined in their\\n92 Sabbllsava Sutta: S...</td>\n",
       "      <td>0</td>\n",
       "      <td>0.812603</td>\n",
       "      <td>0.159527</td>\n",
       "      <td>0.219148</td>\n",
       "      <td>-0.131812</td>\n",
       "      <td>0.309954</td>\n",
       "      <td>0.043</td>\n",
       "      <td>0.091</td>\n",
       "      <td>0.865</td>\n",
       "      <td>0.8823</td>\n",
       "    </tr>\n",
       "    <tr>\n",
       "      <th>2</th>\n",
       "      <td>in him and the arisen\\ntaint ~f ignorance is a...</td>\n",
       "      <td>0</td>\n",
       "      <td>0.876334</td>\n",
       "      <td>0.276702</td>\n",
       "      <td>0.003785</td>\n",
       "      <td>-0.236354</td>\n",
       "      <td>0.139504</td>\n",
       "      <td>0.045</td>\n",
       "      <td>0.076</td>\n",
       "      <td>0.879</td>\n",
       "      <td>0.7691</td>\n",
       "    </tr>\n",
       "    <tr>\n",
       "      <th>3</th>\n",
       "      <td>or the view 'I perceive not-\\nself with self' ...</td>\n",
       "      <td>0</td>\n",
       "      <td>0.887181</td>\n",
       "      <td>0.175885</td>\n",
       "      <td>-0.015736</td>\n",
       "      <td>-0.054695</td>\n",
       "      <td>0.124271</td>\n",
       "      <td>0.126</td>\n",
       "      <td>0.111</td>\n",
       "      <td>0.763</td>\n",
       "      <td>-0.7841</td>\n",
       "    </tr>\n",
       "    <tr>\n",
       "      <th>4</th>\n",
       "      <td>\"What are the things unfit for attention that ...</td>\n",
       "      <td>0</td>\n",
       "      <td>0.857697</td>\n",
       "      <td>0.211716</td>\n",
       "      <td>0.228481</td>\n",
       "      <td>-0.108296</td>\n",
       "      <td>0.277314</td>\n",
       "      <td>0.079</td>\n",
       "      <td>0.110</td>\n",
       "      <td>0.811</td>\n",
       "      <td>0.7757</td>\n",
       "    </tr>\n",
       "  </tbody>\n",
       "</table>\n",
       "</div>"
      ],
      "text/plain": [
       "                                                text  branch    tsvd_0  \\\n",
       "0  THUS HAVE I HEARD. On one occasion the Blessed...       0  0.845376   \n",
       "1  undisciplined in their\\n92 Sabbllsava Sutta: S...       0  0.812603   \n",
       "2  in him and the arisen\\ntaint ~f ignorance is a...       0  0.876334   \n",
       "3  or the view 'I perceive not-\\nself with self' ...       0  0.887181   \n",
       "4  \"What are the things unfit for attention that ...       0  0.857697   \n",
       "\n",
       "     tsvd_1    tsvd_2    tsvd_3    tsvd_4    neg    pos    neu  compound  \n",
       "0 -0.014098  0.266427 -0.303229 -0.062466  0.130  0.091  0.778   -0.8299  \n",
       "1  0.159527  0.219148 -0.131812  0.309954  0.043  0.091  0.865    0.8823  \n",
       "2  0.276702  0.003785 -0.236354  0.139504  0.045  0.076  0.879    0.7691  \n",
       "3  0.175885 -0.015736 -0.054695  0.124271  0.126  0.111  0.763   -0.7841  \n",
       "4  0.211716  0.228481 -0.108296  0.277314  0.079  0.110  0.811    0.7757  "
      ]
     },
     "execution_count": 104,
     "metadata": {},
     "output_type": "execute_result"
    }
   ],
   "source": [
    "df.head()"
   ]
  },
  {
   "attachments": {},
   "cell_type": "markdown",
   "metadata": {},
   "source": [
    "#### Sentiment Visualization\n",
    "\n",
    "Below, I've plotted the compound sentiment scores for each branch as a boxplot. We can see that the median scores are almost identical at about .75. 1 is the most positive score here so it seems like all of our texts are pretty positive. That bodes well for a religious scripture. We can see that the Theravada (0) branch does seem to skew a little more negative though all three branches include the full range of possible scores."
   ]
  },
  {
   "cell_type": "code",
   "execution_count": 131,
   "metadata": {},
   "outputs": [
    {
     "data": {
      "text/plain": [
       "<AxesSubplot:xlabel='branch', ylabel='compound'>"
      ]
     },
     "execution_count": 131,
     "metadata": {},
     "output_type": "execute_result"
    },
    {
     "data": {
      "image/png": "[encoded data removed]",
      "text/plain": [
       "<Figure size 432x288 with 1 Axes>"
      ]
     },
     "metadata": {
      "needs_background": "light"
     },
     "output_type": "display_data"
    }
   ],
   "source": [
    "sns.boxplot(\n",
    "    data=df,\n",
    "    x='branch',\n",
    "    y='compound',\n",
    "    hue='branch',\n",
    "    palette='colorblind',\n",
    ")\n"
   ]
  },
  {
   "attachments": {},
   "cell_type": "markdown",
   "metadata": {},
   "source": [
    "## Modeling"
   ]
  },
  {
   "cell_type": "code",
   "execution_count": null,
   "metadata": {},
   "outputs": [],
   "source": []
  }
 ],
 "metadata": {
  "kernelspec": {
   "display_name": "Python 3",
   "language": "python",
   "name": "python3"
  },
  "language_info": {
   "codemirror_mode": {
    "name": "ipython",
    "version": 3
   },
   "file_extension": ".py",
   "mimetype": "text/x-python",
   "name": "python",
   "nbconvert_exporter": "python",
   "pygments_lexer": "ipython3",
   "version": "3.10.6"
  },
  "orig_nbformat": 4
 },
 "nbformat": 4,
 "nbformat_minor": 2
}
