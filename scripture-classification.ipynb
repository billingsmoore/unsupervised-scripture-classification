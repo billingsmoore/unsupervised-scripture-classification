{
 "cells": [
  {
   "attachments": {},
   "cell_type": "markdown",
   "metadata": {},
   "source": [
    "# Classification of Buddhist Scriptures Using Unsupervised Machine Learning\n",
    "## Introduction\n",
    "### Problem Statement\n",
    "Buddhism is one of the world's major religions. Its primary branches are Theravada, Mahayana, and Vajrayana. These branches can be distinguished by, among many other features, which scriptures they accept as legitimate. Theravada is the most conservative in this respect, accepting the smallest set of scriptures. Mahayana accepts a larger set of scriptures. Vajrayana is the most liberal, accepting all of the scriptures of the Theravada, Mahayana, and an additional set unique to Vajrayana.\n",
    "Historians of religion, and religious practitioners, debate the historical origins of these branches and frequently when new texts are discovered by archaeologists, there is a question as to which branch these text belong. Machine learning methods can help us to categorize these texts in a way that may avoid both the possible sectarian divisions of practitioners and the possibly mistaken assumptions of historians.\n",
    "Thus, this project seeks to use unsupervised machine learning methods to categorize a group of texts as either Theravada, Mahayana, or Vajrayana.\n",
    "\n",
    "### Data\n",
    "I have collected excerpts from texts associated with each branch, saved as theravada-excerpts.txt, mahayana-excerpts.txt, and vajrayana-excerpts.txt. These excerpts are taken from scriptures that are taken by domain excerpts to be representative of the textual tradition of each branch. For each branch, the excerpts are taken from four separate texts in chunks of about 200 lines. "
   ]
  },
  {
   "attachments": {},
   "cell_type": "markdown",
   "metadata": {},
   "source": [
    "## Preprocessing\n",
    "First, I've loaded in the texts below and gotten a word count. We can see that there are a roughly equal number of words  (~5000) in each of the sets of excerpts. This is what we want for modeling purposes."
   ]
  },
  {
   "cell_type": "code",
   "execution_count": 1,
   "metadata": {},
   "outputs": [
    {
     "name": "stdout",
     "output_type": "stream",
     "text": [
      "Theravada Excerpts Word Count:5094\n",
      "Mahayana Excerpts Word Count:4885\n",
      "Vajrayana Excerpts Word Count:4863\n"
     ]
    }
   ],
   "source": [
    "with open('theravada-excerpts.txt', 'r') as excerpts:\n",
    "    theravada = excerpts.read().split(' ')\n",
    "\n",
    "print('Theravada Excerpts Word Count:' + str(len(theravada)))\n",
    "\n",
    "with open('mahayana-excerpts.txt', 'r') as excerpts:\n",
    "    mahayana = excerpts.read().split(' ')\n",
    "\n",
    "print('Mahayana Excerpts Word Count:' + str(len(mahayana)))\n",
    "\n",
    "with open('vajrayana-excerpts.txt', 'r') as excerpts:\n",
    "    vajrayana = excerpts.read().split(' ')\n",
    "\n",
    "print('Vajrayana Excerpts Word Count:' + str(len(vajrayana)))"
   ]
  },
  {
   "attachments": {},
   "cell_type": "markdown",
   "metadata": {},
   "source": [
    "Next, I'll split the sets of excerpts into chunks of 200 words to act as the samples in our data. "
   ]
  },
  {
   "cell_type": "code",
   "execution_count": 2,
   "metadata": {},
   "outputs": [],
   "source": [
    "theravada_chunks = []\n",
    "mahayana_chunks = []\n",
    "vajrayana_chunks = []\n",
    "\n",
    "for i in range(0,len(theravada) - 199, 200):\n",
    "    theravada_chunks.append(' '.join(theravada[i:i+199]))\n",
    "\n",
    "for i in range(0,len(mahayana) - 199, 200):\n",
    "    mahayana_chunks.append(' '.join(mahayana[i:i+199]))\n",
    "\n",
    "for i in range(0,len(vajrayana) - 199, 200):\n",
    "    vajrayana_chunks.append(' '.join(vajrayana[i:i+199]))"
   ]
  },
  {
   "attachments": {},
   "cell_type": "markdown",
   "metadata": {},
   "source": [
    "We can now construct our initial dataframe of text excerpts and category labels. I will use 0 for Theravada, 1 for Mahayana, and 2 for Vajrayana."
   ]
  },
  {
   "cell_type": "code",
   "execution_count": 3,
   "metadata": {},
   "outputs": [],
   "source": [
    "import pandas as pd"
   ]
  },
  {
   "cell_type": "code",
   "execution_count": 4,
   "metadata": {},
   "outputs": [
    {
     "data": {
      "text/html": [
       "<div>\n",
       "<style scoped>\n",
       "    .dataframe tbody tr th:only-of-type {\n",
       "        vertical-align: middle;\n",
       "    }\n",
       "\n",
       "    .dataframe tbody tr th {\n",
       "        vertical-align: top;\n",
       "    }\n",
       "\n",
       "    .dataframe thead th {\n",
       "        text-align: right;\n",
       "    }\n",
       "</style>\n",
       "<table border=\"1\" class=\"dataframe\">\n",
       "  <thead>\n",
       "    <tr style=\"text-align: right;\">\n",
       "      <th></th>\n",
       "      <th>text</th>\n",
       "      <th>branch</th>\n",
       "    </tr>\n",
       "  </thead>\n",
       "  <tbody>\n",
       "    <tr>\n",
       "      <th>0</th>\n",
       "      <td>become of Tārā and know peace.6\\nHaving overco...</td>\n",
       "      <td>2</td>\n",
       "    </tr>\n",
       "    <tr>\n",
       "      <th>1</th>\n",
       "      <td>rākṣasas, the world of ghosts,\\nVarious maiden...</td>\n",
       "      <td>2</td>\n",
       "    </tr>\n",
       "    <tr>\n",
       "      <th>2</th>\n",
       "      <td>their various desires, dispenses objects of am...</td>\n",
       "      <td>1</td>\n",
       "    </tr>\n",
       "    <tr>\n",
       "      <th>3</th>\n",
       "      <td>the sensed, he conceives [himself as] the sens...</td>\n",
       "      <td>0</td>\n",
       "    </tr>\n",
       "    <tr>\n",
       "      <th>4</th>\n",
       "      <td>eight\\nhundred body benefits, and twelve hundr...</td>\n",
       "      <td>1</td>\n",
       "    </tr>\n",
       "  </tbody>\n",
       "</table>\n",
       "</div>"
      ],
      "text/plain": [
       "                                                text  branch\n",
       "0  become of Tārā and know peace.6\\nHaving overco...       2\n",
       "1  rākṣasas, the world of ghosts,\\nVarious maiden...       2\n",
       "2  their various desires, dispenses objects of am...       1\n",
       "3  the sensed, he conceives [himself as] the sens...       0\n",
       "4  eight\\nhundred body benefits, and twelve hundr...       1"
      ]
     },
     "execution_count": 4,
     "metadata": {},
     "output_type": "execute_result"
    }
   ],
   "source": [
    "th_data = {'text':theravada_chunks, 'branch': [0]*(len(theravada_chunks))}\n",
    "th_df = pd.DataFrame(th_data)\n",
    "\n",
    "ma_data = {'text': mahayana_chunks, 'branch': [1]*(len(mahayana_chunks))}\n",
    "ma_df = pd.DataFrame(ma_data)\n",
    "\n",
    "va_data = {'text':vajrayana_chunks, 'branch': [2]*(len(vajrayana_chunks))}\n",
    "va_df = pd.DataFrame(va_data)\n",
    "\n",
    "df = pd.concat([th_df, ma_df, va_df])\n",
    "\n",
    "df = df.sample(frac=1).reset_index(drop=True)\n",
    "\n",
    "df.head()"
   ]
  },
  {
   "attachments": {},
   "cell_type": "markdown",
   "metadata": {},
   "source": [
    "## Quantifying the Text\n",
    "Now that we have a dataframe of our text, we can start turning it into something quantifiable for modeling. I will use two approaches here. The first is the frequency analysis that we are already familiar with. The second is sentiment analysis.\n",
    "\n",
    "### Frequency Analysis"
   ]
  },
  {
   "attachments": {},
   "cell_type": "markdown",
   "metadata": {},
   "source": [
    "Below, I have used TfidVectorizer to get the word frequencies out of the set of texts. \n",
    "\n",
    "Because the texts sometimes use jargon drawn from Pali, Sanksrit, and Tibetan, the text is not necessarily friendly to process. To accomodate this, I have set decode_error to 'ignore'. This will tell the vectorizer to ignore any characters that it can not parse at all. I have also set strip_accents to 'unicode', so that the accent marks that are common in these languages can be more easily handled.\n",
    "\n",
    "Because it is a small data set and performance is not a big concern, I have limited max_features to 20 and set the n-gram range to (1,5). The n-gram range will thus look for the frequencies of single words as well as phrases of up to 5 words.\n",
    "\n",
    "Finally, I have set sublinear_tf to True. This tells the vectorizer to return the log value of the frequencies. This is to accomodate Zipf's Law which tells us that word frequency is exponential. Making this change should make our modeling a little more reliable, without unduly weighting anything. \n",
    "\n",
    "I then simplify this frequency matrix using Truncated Singular Value Decomposition, to reduce the number of dimensions to 5."
   ]
  },
  {
   "cell_type": "code",
   "execution_count": 5,
   "metadata": {},
   "outputs": [],
   "source": [
    "from sklearn.feature_extraction.text import TfidfVectorizer\n",
    "from sklearn.decomposition import TruncatedSVD"
   ]
  },
  {
   "cell_type": "code",
   "execution_count": 6,
   "metadata": {},
   "outputs": [],
   "source": [
    "freq_matrix = TfidfVectorizer(decode_error='ignore', strip_accents='unicode',max_features=20, ngram_range=(1,5), sublinear_tf=True).fit_transform(df['text']).toarray()"
   ]
  },
  {
   "cell_type": "code",
   "execution_count": 7,
   "metadata": {},
   "outputs": [],
   "source": [
    "tsvd = TruncatedSVD(n_components=5).fit_transform(freq_matrix)"
   ]
  },
  {
   "cell_type": "code",
   "execution_count": 8,
   "metadata": {},
   "outputs": [],
   "source": [
    "tsvd_feature_list = []\n",
    "for i in range(5):\n",
    "    name =('tsvd_' + str(i))\n",
    "    tsvd_feature_list.append(name)\n",
    "    df[name] = [el[i] for el in tsvd.tolist()]"
   ]
  },
  {
   "attachments": {},
   "cell_type": "markdown",
   "metadata": {},
   "source": [
    "#### Frequency Clustering Visualization\n",
    "We can see in the visualization below, that even just looking at the two dimensional reduced matrix, there is a noticeable degree of clustering happening in our data."
   ]
  },
  {
   "cell_type": "code",
   "execution_count": 9,
   "metadata": {},
   "outputs": [],
   "source": [
    "import seaborn as sns"
   ]
  },
  {
   "cell_type": "code",
   "execution_count": 10,
   "metadata": {},
   "outputs": [
    {
     "data": {
      "text/plain": [
       "<AxesSubplot:xlabel='tsvd_0', ylabel='tsvd_1'>"
      ]
     },
     "execution_count": 10,
     "metadata": {},
     "output_type": "execute_result"
    },
    {
     "data": {
      "image/png": "[encoded data removed]",
      "text/plain": [
       "<Figure size 432x288 with 1 Axes>"
      ]
     },
     "metadata": {
      "needs_background": "light"
     },
     "output_type": "display_data"
    }
   ],
   "source": [
    "sns.scatterplot(\n",
    "    data=df,\n",
    "    x= 'tsvd_0',\n",
    "    y= 'tsvd_1',\n",
    "    hue='branch',\n",
    "    palette='colorblind',\n",
    "    style='branch'\n",
    ")"
   ]
  },
  {
   "attachments": {},
   "cell_type": "markdown",
   "metadata": {},
   "source": [
    "### Sentiment Analysis\n",
    "\n",
    "Now that frequency analysis is complete, I'll perform the Sentiment Analysis. Below, I have processed the texts using SentimentIntensityAnalyzer from the nltk python library. The SIA returns for each text a dictionary of scores: 'neg' representing how negative the text is; 'pos' representing how positive the text is; 'neu' representing how neutral the text is; and 'compound' which is compound score which summarizes the other three. These scores are assigned based on a lexicon of pre-designated positive, negative, and neutral words. Here I have used the 'vader' lexicon that nltk provides."
   ]
  },
  {
   "cell_type": "code",
   "execution_count": 11,
   "metadata": {},
   "outputs": [
    {
     "name": "stderr",
     "output_type": "stream",
     "text": [
      "[nltk_data] Downloading package vader_lexicon to /home/j/nltk_data...\n",
      "[nltk_data]   Package vader_lexicon is already up-to-date!\n"
     ]
    },
    {
     "data": {
      "text/plain": [
       "True"
      ]
     },
     "execution_count": 11,
     "metadata": {},
     "output_type": "execute_result"
    }
   ],
   "source": [
    "import nltk\n",
    "from nltk.sentiment import SentimentIntensityAnalyzer\n",
    "nltk.download('vader_lexicon')"
   ]
  },
  {
   "cell_type": "code",
   "execution_count": 12,
   "metadata": {},
   "outputs": [],
   "source": [
    "sentiments = []\n",
    "sia = SentimentIntensityAnalyzer()\n",
    "for text in df['text']:\n",
    "    sentiment = sia.polarity_scores(text)\n",
    "    sentiments.append(sentiment)\n",
    "\n",
    "sent_df = pd.DataFrame(sentiments)\n",
    "\n",
    "df['neg'] = sent_df['neg']\n",
    "df['pos'] = sent_df['pos']\n",
    "df['neu'] = sent_df['neu']\n",
    "df['compound'] = sent_df['compound']"
   ]
  },
  {
   "attachments": {},
   "cell_type": "markdown",
   "metadata": {},
   "source": [
    "I've append both the reduced matrix and the sentiment scores to the data frame now and we can see this below."
   ]
  },
  {
   "cell_type": "code",
   "execution_count": 13,
   "metadata": {},
   "outputs": [
    {
     "data": {
      "text/html": [
       "<div>\n",
       "<style scoped>\n",
       "    .dataframe tbody tr th:only-of-type {\n",
       "        vertical-align: middle;\n",
       "    }\n",
       "\n",
       "    .dataframe tbody tr th {\n",
       "        vertical-align: top;\n",
       "    }\n",
       "\n",
       "    .dataframe thead th {\n",
       "        text-align: right;\n",
       "    }\n",
       "</style>\n",
       "<table border=\"1\" class=\"dataframe\">\n",
       "  <thead>\n",
       "    <tr style=\"text-align: right;\">\n",
       "      <th></th>\n",
       "      <th>text</th>\n",
       "      <th>branch</th>\n",
       "      <th>tsvd_0</th>\n",
       "      <th>tsvd_1</th>\n",
       "      <th>tsvd_2</th>\n",
       "      <th>tsvd_3</th>\n",
       "      <th>tsvd_4</th>\n",
       "      <th>neg</th>\n",
       "      <th>pos</th>\n",
       "      <th>neu</th>\n",
       "      <th>compound</th>\n",
       "    </tr>\n",
       "  </thead>\n",
       "  <tbody>\n",
       "    <tr>\n",
       "      <th>0</th>\n",
       "      <td>become of Tārā and know peace.6\\nHaving overco...</td>\n",
       "      <td>2</td>\n",
       "      <td>0.914625</td>\n",
       "      <td>-0.208841</td>\n",
       "      <td>0.137321</td>\n",
       "      <td>0.078535</td>\n",
       "      <td>-0.011552</td>\n",
       "      <td>0.052</td>\n",
       "      <td>0.247</td>\n",
       "      <td>0.702</td>\n",
       "      <td>0.9948</td>\n",
       "    </tr>\n",
       "    <tr>\n",
       "      <th>1</th>\n",
       "      <td>rākṣasas, the world of ghosts,\\nVarious maiden...</td>\n",
       "      <td>2</td>\n",
       "      <td>0.866004</td>\n",
       "      <td>-0.278414</td>\n",
       "      <td>-0.080860</td>\n",
       "      <td>0.271481</td>\n",
       "      <td>0.088323</td>\n",
       "      <td>0.020</td>\n",
       "      <td>0.128</td>\n",
       "      <td>0.853</td>\n",
       "      <td>0.9812</td>\n",
       "    </tr>\n",
       "    <tr>\n",
       "      <th>2</th>\n",
       "      <td>their various desires, dispenses objects of am...</td>\n",
       "      <td>1</td>\n",
       "      <td>0.887415</td>\n",
       "      <td>-0.301707</td>\n",
       "      <td>0.039963</td>\n",
       "      <td>0.177091</td>\n",
       "      <td>-0.081349</td>\n",
       "      <td>0.034</td>\n",
       "      <td>0.159</td>\n",
       "      <td>0.807</td>\n",
       "      <td>0.9801</td>\n",
       "    </tr>\n",
       "    <tr>\n",
       "      <th>3</th>\n",
       "      <td>the sensed, he conceives [himself as] the sens...</td>\n",
       "      <td>0</td>\n",
       "      <td>0.691123</td>\n",
       "      <td>0.614212</td>\n",
       "      <td>-0.100098</td>\n",
       "      <td>0.230946</td>\n",
       "      <td>-0.083030</td>\n",
       "      <td>0.000</td>\n",
       "      <td>0.057</td>\n",
       "      <td>0.943</td>\n",
       "      <td>0.9179</td>\n",
       "    </tr>\n",
       "    <tr>\n",
       "      <th>4</th>\n",
       "      <td>eight\\nhundred body benefits, and twelve hundr...</td>\n",
       "      <td>1</td>\n",
       "      <td>0.861192</td>\n",
       "      <td>-0.112357</td>\n",
       "      <td>-0.074138</td>\n",
       "      <td>0.197357</td>\n",
       "      <td>-0.028624</td>\n",
       "      <td>0.019</td>\n",
       "      <td>0.170</td>\n",
       "      <td>0.811</td>\n",
       "      <td>0.9840</td>\n",
       "    </tr>\n",
       "  </tbody>\n",
       "</table>\n",
       "</div>"
      ],
      "text/plain": [
       "                                                text  branch    tsvd_0  \\\n",
       "0  become of Tārā and know peace.6\\nHaving overco...       2  0.914625   \n",
       "1  rākṣasas, the world of ghosts,\\nVarious maiden...       2  0.866004   \n",
       "2  their various desires, dispenses objects of am...       1  0.887415   \n",
       "3  the sensed, he conceives [himself as] the sens...       0  0.691123   \n",
       "4  eight\\nhundred body benefits, and twelve hundr...       1  0.861192   \n",
       "\n",
       "     tsvd_1    tsvd_2    tsvd_3    tsvd_4    neg    pos    neu  compound  \n",
       "0 -0.208841  0.137321  0.078535 -0.011552  0.052  0.247  0.702    0.9948  \n",
       "1 -0.278414 -0.080860  0.271481  0.088323  0.020  0.128  0.853    0.9812  \n",
       "2 -0.301707  0.039963  0.177091 -0.081349  0.034  0.159  0.807    0.9801  \n",
       "3  0.614212 -0.100098  0.230946 -0.083030  0.000  0.057  0.943    0.9179  \n",
       "4 -0.112357 -0.074138  0.197357 -0.028624  0.019  0.170  0.811    0.9840  "
      ]
     },
     "execution_count": 13,
     "metadata": {},
     "output_type": "execute_result"
    }
   ],
   "source": [
    "df.head()"
   ]
  },
  {
   "attachments": {},
   "cell_type": "markdown",
   "metadata": {},
   "source": [
    "#### Sentiment Visualization\n",
    "\n",
    "Below, I've plotted the compound sentiment scores for each branch as a boxplot. We can see that the median scores are similar. 1 is the most positive score here so it seems like all of our texts are pretty positive. That bodes well for a religious scripture. We can see that the Theravada (0) branch does seem to skew much more negative, at least in this sample."
   ]
  },
  {
   "cell_type": "code",
   "execution_count": 14,
   "metadata": {},
   "outputs": [
    {
     "data": {
      "text/plain": [
       "<AxesSubplot:xlabel='branch', ylabel='compound'>"
      ]
     },
     "execution_count": 14,
     "metadata": {},
     "output_type": "execute_result"
    },
    {
     "data": {
      "image/png": "[encoded data removed]",
      "text/plain": [
       "<Figure size 432x288 with 1 Axes>"
      ]
     },
     "metadata": {
      "needs_background": "light"
     },
     "output_type": "display_data"
    }
   ],
   "source": [
    "sns.boxplot(\n",
    "    data=df,\n",
    "    x='branch',\n",
    "    y='compound',\n",
    "    hue='branch',\n",
    "    palette='colorblind',\n",
    ")\n"
   ]
  },
  {
   "attachments": {},
   "cell_type": "markdown",
   "metadata": {},
   "source": [
    "Below, I've plotted a scatterplot with the positive sentiment score on the x-axis and the negative sentiment score on the y-axis. The clusters here are less obvious than in the frequency plot or in the compound sentiment boxplot above, but not entirely absent."
   ]
  },
  {
   "cell_type": "code",
   "execution_count": 15,
   "metadata": {},
   "outputs": [
    {
     "data": {
      "text/plain": [
       "<AxesSubplot:xlabel='pos', ylabel='neg'>"
      ]
     },
     "execution_count": 15,
     "metadata": {},
     "output_type": "execute_result"
    },
    {
     "data": {
      "image/png": "[encoded data removed]",
      "text/plain": [
       "<Figure size 432x288 with 1 Axes>"
      ]
     },
     "metadata": {
      "needs_background": "light"
     },
     "output_type": "display_data"
    }
   ],
   "source": [
    "sns.scatterplot(\n",
    "    data=df,\n",
    "    x= 'pos',\n",
    "    y= 'neg',\n",
    "    hue='branch',\n",
    "    palette='colorblind',\n",
    "    style='branch'\n",
    ")"
   ]
  },
  {
   "attachments": {},
   "cell_type": "markdown",
   "metadata": {},
   "source": [
    "## Modeling"
   ]
  },
  {
   "attachments": {},
   "cell_type": "markdown",
   "metadata": {},
   "source": [
    "### Unsupervised Models\n",
    "#### First Pass Models\n",
    "\n",
    "Below, I have trained a series of models. First, I've trained a series of models using the frequency data with each model increasing the number of components used. I've performed this portion for both the KMeans algorithm and the Agglomerative Clustering Algorithm.\n",
    "\n",
    "Next, I trained a series of models using the sentiment analysis data using the compound score alone, the positive and negative scores, and all four: positive, negative, neutral, and compound scores."
   ]
  },
  {
   "cell_type": "code",
   "execution_count": 16,
   "metadata": {},
   "outputs": [],
   "source": [
    "import numpy as np\n",
    "\n",
    "from sklearn.cluster import KMeans, AgglomerativeClustering\n",
    "from sklearn.metrics import accuracy_score, confusion_matrix"
   ]
  },
  {
   "attachments": {},
   "cell_type": "markdown",
   "metadata": {},
   "source": [
    "In this cell, I've adapted the code that I wrote for the assignment in a previous model to help with interpreting category labels."
   ]
  },
  {
   "cell_type": "code",
   "execution_count": 17,
   "metadata": {},
   "outputs": [],
   "source": [
    "def label_permute_compare(ytdf,yp):\n",
    "    \"\"\"\n",
    "    ytdf: labels dataframe object\n",
    "    yp: clustering label prediction output\n",
    "    Returns permuted label order and accuracy. \n",
    "    Example output: (1, 2, 0), 0.74  \n",
    "    \"\"\"\n",
    "# your code here\n",
    "    labels = [0,1,2]\n",
    "    best = -1\n",
    "    best_labels = None\n",
    "    \n",
    "    for n in range(3):\n",
    "    \n",
    "        for i in range(len(labels)):\n",
    "            labels[i] += 1\n",
    "            labels[i] = labels[i] % 3\n",
    "            \n",
    "    \n",
    "        y_true = ytdf['branch'].replace({0 : labels[0], 1 : labels[1], 2 : labels[2]})\n",
    "        score = accuracy_score(y_true, yp)\n",
    "        \n",
    "        if score >= best:\n",
    "                best = score\n",
    "                best_labels = labels\n",
    "                \n",
    "    return best_labels, best"
   ]
  },
  {
   "cell_type": "code",
   "execution_count": 18,
   "metadata": {},
   "outputs": [],
   "source": [
    "k_avg = np.zeros(len(tsvd_feature_list) + 1)\n",
    "agg_avg = np.zeros(len(tsvd_feature_list) + 1)\n",
    "\n",
    "iterations = 100\n",
    "\n",
    "for j in range(iterations):\n",
    "    for i in range(len(tsvd_feature_list)+1):\n",
    "\n",
    "        kmeans = KMeans(n_clusters=3, n_init='auto').fit(df[:len(df)//2][tsvd_feature_list[:i+1]])\n",
    "\n",
    "        agg_preds = AgglomerativeClustering(n_clusters=3).fit_predict(df[tsvd_feature_list[:i+1]])\n",
    "\n",
    "        k_preds = kmeans.predict(df[len(df)//2:][tsvd_feature_list[:i+1]])\n",
    "\n",
    "        k_acc = label_permute_compare(df[len(df)//2:],k_preds)[1]\n",
    "\n",
    "        k_avg[i] = k_avg[i] + k_acc\n",
    "\n",
    "        agg_acc = label_permute_compare(df,agg_preds)[1]\n",
    "\n",
    "        agg_avg[i] = agg_avg[i] + agg_acc\n",
    "\n",
    "for i in range(len(k_avg)):\n",
    "    k_avg[i] = k_avg[i] / iterations\n",
    "    agg_avg[i] = agg_avg[i] / iterations"
   ]
  },
  {
   "attachments": {},
   "cell_type": "markdown",
   "metadata": {},
   "source": [
    "##### Frequency Model Results\n",
    "We can see below that the KMeans algorithm (in blue) performs substantially better than the Agglomerative Clustering model (in dotted orange)  at any number of components. Interestingly, the Agglomerative Clustering model spikes at two components, while the KMeans model trends more generall upward as more components are added."
   ]
  },
  {
   "cell_type": "code",
   "execution_count": 19,
   "metadata": {},
   "outputs": [
    {
     "data": {
      "text/plain": [
       "<AxesSubplot:>"
      ]
     },
     "execution_count": 19,
     "metadata": {},
     "output_type": "execute_result"
    },
    {
     "data": {
      "image/png": "[encoded data removed]",
      "text/plain": [
       "<Figure size 432x288 with 1 Axes>"
      ]
     },
     "metadata": {
      "needs_background": "light"
     },
     "output_type": "display_data"
    }
   ],
   "source": [
    "results = {'n_comp':list(range(1,len(tsvd_feature_list) + 2,1)), 'k_acc': k_avg, 'agg_acc': agg_avg}\n",
    "result_df = pd.DataFrame(data=results)\n",
    "\n",
    "sns.lineplot(data=result_df[['k_acc', 'agg_acc']])"
   ]
  },
  {
   "cell_type": "code",
   "execution_count": 20,
   "metadata": {},
   "outputs": [],
   "source": [
    "k_avg_acc = 0\n",
    "agg_avg_acc = 0\n",
    "\n",
    "iterations = 100\n",
    "\n",
    "# train with compound score\n",
    "\n",
    "for j in range(iterations):\n",
    "\n",
    "    kmeans = KMeans(n_clusters=3, n_init='auto').fit(df[:len(df)//2][['compound']])\n",
    "    agg_preds = AgglomerativeClustering(n_clusters=3).fit_predict(df[['compound']])\n",
    "    k_preds = kmeans.predict(df[len(df)//2:][['compound']])\n",
    "    k_acc = label_permute_compare(df[len(df)//2:],k_preds)[1]\n",
    "    k_avg_acc = k_avg_acc + k_acc\n",
    "    agg_acc = label_permute_compare(df,agg_preds)[1]\n",
    "    agg_avg_acc = agg_avg_acc + agg_acc\n",
    "\n",
    "com_k_avg_acc = k_avg_acc / iterations\n",
    "com_agg_avg_acc = agg_avg_acc / iterations\n",
    "\n",
    "# train with pos and neg\n",
    "\n",
    "k_avg_acc = 0\n",
    "agg_avg_acc = 0\n",
    "\n",
    "for j in range(iterations):\n",
    "\n",
    "    kmeans = KMeans(n_clusters=3, n_init='auto').fit(df[:len(df)//2][['pos', 'neg']])\n",
    "    agg_preds = AgglomerativeClustering(n_clusters=3).fit_predict(df[['pos', 'neg']])\n",
    "    k_preds = kmeans.predict(df[len(df)//2:][['pos', 'neg']])\n",
    "    k_acc = label_permute_compare(df[len(df)//2:],k_preds)[1]\n",
    "    k_avg_acc = k_avg_acc + k_acc\n",
    "    agg_acc = label_permute_compare(df,agg_preds)[1]\n",
    "    agg_avg_acc = agg_avg_acc + agg_acc\n",
    "\n",
    "pos_neg_k_avg_acc = k_avg_acc / iterations\n",
    "pos_neg_agg_avg_acc = agg_avg_acc / iterations\n",
    "\n",
    "# train with all\n",
    "\n",
    "k_avg_acc = 0\n",
    "agg_avg_acc = 0\n",
    "\n",
    "for j in range(iterations):\n",
    "\n",
    "    kmeans = KMeans(n_clusters=3, n_init='auto').fit(df[:len(df)//2][['pos', 'neg', 'neu', 'compound']])\n",
    "    agg_preds = AgglomerativeClustering(n_clusters=3).fit_predict(df[['pos', 'neg', 'neu', 'compound']])\n",
    "    k_preds = kmeans.predict(df[len(df)//2:][['pos', 'neg', 'neu', 'compound']])\n",
    "    k_acc = label_permute_compare(df[len(df)//2:],k_preds)[1]\n",
    "    k_avg_acc = k_avg_acc + k_acc\n",
    "    agg_acc = label_permute_compare(df,agg_preds)[1]\n",
    "    agg_avg_acc = agg_avg_acc + agg_acc\n",
    "\n",
    "all_k_avg_acc = k_avg_acc / iterations\n",
    "all_agg_avg_acc = agg_avg_acc / iterations"
   ]
  },
  {
   "attachments": {},
   "cell_type": "markdown",
   "metadata": {},
   "source": [
    "##### Sentiment Results\n",
    "From the results below, we can see that the KMeans model outperforms the Agglomerative Clustering model in all cases. The best performing model is the model that uses the positive and negative sentiment scores. This is perhaps not too surprising from a statistical perspective. None of the scores are truly independent of one another. Adding additional variables that are not independent only makes statistical modeling less reliable, in general."
   ]
  },
  {
   "cell_type": "code",
   "execution_count": 21,
   "metadata": {},
   "outputs": [
    {
     "name": "stdout",
     "output_type": "stream",
     "text": [
      "Average accuracy of KMeans model using only the compound sentiment score:0.454\n",
      "Average accuracy of Agglomerative Clustering model using only the compound sentiment score:0.425\n",
      "\n",
      "Average accuracy of KMeans model using positive and negative sentiment scores:0.443\n",
      "Average accuracy of Agglomerative Clustering model using positive and negative sentiment scores:0.466\n",
      "\n",
      "Average accuracy of KMeans model using all sentiment scores:0.406\n",
      "Average accuracy of Agglomerative Clustering model using all sentiment scores:0.438\n",
      "\n"
     ]
    }
   ],
   "source": [
    "print('Average accuracy of KMeans model using only the compound sentiment score:' + str(round(com_k_avg_acc, 3)))\n",
    "print('Average accuracy of Agglomerative Clustering model using only the compound sentiment score:' + str(round(com_agg_avg_acc, 3)) + '\\n')\n",
    "\n",
    "print('Average accuracy of KMeans model using positive and negative sentiment scores:' + str(round(pos_neg_k_avg_acc, 3)))\n",
    "print('Average accuracy of Agglomerative Clustering model using positive and negative sentiment scores:' + str(round(pos_neg_agg_avg_acc, 3)) + '\\n')\n",
    "\n",
    "print('Average accuracy of KMeans model using all sentiment scores:' + str(round(all_k_avg_acc, 3)))\n",
    "print('Average accuracy of Agglomerative Clustering model using all sentiment scores:' + str(round(all_agg_avg_acc, 3)) + '\\n')"
   ]
  },
  {
   "attachments": {},
   "cell_type": "markdown",
   "metadata": {},
   "source": [
    "#### Iterating on the Best Models\n",
    "\n",
    "We saw above that the best models are trained using the Agglomerative Clustering algorithm using two components of the TSVD matrix, a KMeans model using 4 components of the TSVD matrix, or a KMeans model using the positive and negative sentiment scores. Below, I've trained two sets of 100 models models in isolation using just these two approaches and found their average accuracies. We can see that the accuracies are similar, though the sentiment based model performs slightly better."
   ]
  },
  {
   "cell_type": "code",
   "execution_count": 22,
   "metadata": {},
   "outputs": [
    {
     "name": "stdout",
     "output_type": "stream",
     "text": [
      "Average Frequency Agglomerative Clustering Model Accuracy: 0.452\n",
      "Average Frequency KMeans Model Accuracy: 0.462\n",
      "Average Sentiment KMeans Model Accuracy: 0.456\n"
     ]
    }
   ],
   "source": [
    "iterations = 100\n",
    "\n",
    "f_agg_acc = 0\n",
    "s_k_acc = 0\n",
    "f_k_acc = 0\n",
    "\n",
    "for i in range(iterations):\n",
    "    # agg frequency model\n",
    "    f_agg_preds = AgglomerativeClustering(n_clusters=3).fit_predict(df[tsvd_feature_list[:2]])\n",
    "    f_agg_acc += label_permute_compare(df,f_agg_preds)[1]\n",
    "\n",
    "    # km frequency model\n",
    "    f_kmeans = KMeans(n_clusters=3, n_init='auto').fit(df[:len(df)//2][tsvd_feature_list[:4]])\n",
    "    f_k_preds = f_kmeans.predict(df[len(df)//2:][tsvd_feature_list[:4]])\n",
    "    f_k_acc += label_permute_compare(df[len(df)//2:],f_k_preds)[1]\n",
    "\n",
    "    # sentiment model\n",
    "    s_kmeans = KMeans(n_clusters=3, n_init='auto').fit(df[:len(df)//2][['pos','neg']])\n",
    "    s_k_preds = s_kmeans.predict(df[len(df)//2:][['pos','neg']])\n",
    "    s_k_acc += label_permute_compare(df[len(df)//2:],s_k_preds)[1]\n",
    "\n",
    "f_agg_acc = f_agg_acc / iterations\n",
    "f_k_acc = f_k_acc / iterations\n",
    "s_k_acc = s_k_acc / iterations\n",
    "\n",
    "print(\"Average Frequency Agglomerative Clustering Model Accuracy: \" + str(round(f_agg_acc, 3)))\n",
    "\n",
    "print(\"Average Frequency KMeans Model Accuracy: \" + str(round(f_k_acc, 3)))\n",
    "\n",
    "print(\"Average Sentiment KMeans Model Accuracy: \" + str(round(s_k_acc, 3)))"
   ]
  },
  {
   "attachments": {},
   "cell_type": "markdown",
   "metadata": {},
   "source": [
    "##### Combined Model\n",
    "Below, I've trained an additional series of models that use both the TSVD matrix and the positive and negative sentiment score. I've trained both a KMeans model which draws from the first five elements of the TSVD matrix and an Agglomerative Clustering model that uses only the first element of the TSVD matrix. Below, we see that the Agglomerative Clustering model is still not performing as well as the KMeans version. The KMeans model with both the frequencies and the sentiments appears to perform comparably to the individual models but my suspicion is that we can improve these results with some tuning of the hyperparameters."
   ]
  },
  {
   "cell_type": "code",
   "execution_count": 23,
   "metadata": {},
   "outputs": [
    {
     "name": "stdout",
     "output_type": "stream",
     "text": [
      "Averaged Combined KMeans Model Accuracy: 0.47\n",
      "Averaged Combined Agglomerative Model Accuracy: 0.452\n"
     ]
    }
   ],
   "source": [
    "iterations = 100\n",
    "\n",
    "c_k_acc = 0\n",
    "c_agg_acc = 0\n",
    "\n",
    "\n",
    "for i in range(iterations):\n",
    "    # kmeans model\n",
    "    c_kmeans = KMeans(n_clusters=3, n_init='auto').fit(df[:len(df)//2][tsvd_feature_list[:4]+['pos','neg']])\n",
    "    c_k_preds = c_kmeans.predict(df[len(df)//2:][tsvd_feature_list[:4]+['pos','neg']])\n",
    "    c_k_acc += label_permute_compare(df[len(df)//2:],c_k_preds)[1]\n",
    "\n",
    "    # agg model\n",
    "    c_agg_preds = AgglomerativeClustering(n_clusters=3).fit_predict(df[tsvd_feature_list[:2] + ['pos', 'neg']])\n",
    "    c_agg_acc += label_permute_compare(df,c_agg_preds)[1]\n",
    "\n",
    "c_k_acc = c_k_acc / iterations\n",
    "c_agg_acc = c_agg_acc / iterations\n",
    "\n",
    "print(\"Averaged Combined KMeans Model Accuracy: \" + str(round(c_k_acc, 3)))\n",
    "print(\"Averaged Combined Agglomerative Model Accuracy: \" + str(round(c_agg_acc, 3)))"
   ]
  },
  {
   "attachments": {},
   "cell_type": "markdown",
   "metadata": {},
   "source": [
    "##### Hyperparameter Tuning the Combined Model\n",
    "So we have an optimal approach: a KMeans model using four components of the TSVD matrix and the positive and negative sentiment scores. Let's tune the hyperparameters to ensure that this model is as optimized as it can be.\n",
    "\n",
    "The most important hyperparameter for KMeans Clustering for our purposes is which algorithm is used to solve. By default the sklearn library uses the Lloyd algorith. The alternative is the Elkan algorithm.\n",
    "\n",
    "The other important hyperparameters are the maximum number of iterations the algorithm will run (max_iter = 300 by default), and the number of the times the algorithm runs with different centroid \"seeds\", randomly chosen initial centroids (n_init = 10 by default).\n",
    "\n",
    "Below I've begun by exploring the effects of these less interesting hyperparameters before moving into the more impactful algorithm hyperparameter.\n",
    "\n",
    "###### n_init\n",
    "\n",
    "First up is n_init values. We can see below that accuracy is maximized when n_init is set to 10."
   ]
  },
  {
   "cell_type": "code",
   "execution_count": 30,
   "metadata": {},
   "outputs": [
    {
     "data": {
      "text/plain": [
       "<AxesSubplot:xlabel='n_init', ylabel='acc'>"
      ]
     },
     "execution_count": 30,
     "metadata": {},
     "output_type": "execute_result"
    },
    {
     "data": {
      "image/png": "[encoded data removed]",
      "text/plain": [
       "<Figure size 432x288 with 1 Axes>"
      ]
     },
     "metadata": {
      "needs_background": "light"
     },
     "output_type": "display_data"
    }
   ],
   "source": [
    "# experimenting with init values\n",
    "\n",
    "inits = 50\n",
    "\n",
    "ht_accs = []\n",
    "\n",
    "for i in range(1, inits, 10):\n",
    "    ht_mod = KMeans(n_clusters=3, n_init = i).fit(df[:len(df)//2][tsvd_feature_list[:4]+['pos','neg']])\n",
    "    ht_preds = ht_mod.predict(df[len(df)//2:][tsvd_feature_list[:4]+['pos','neg']])\n",
    "    ht_accs.append(label_permute_compare(df[len(df)//2:], ht_preds)[1])\n",
    "\n",
    "\n",
    "results = {'n_init':list(range(1,50,10)), 'acc': ht_accs}\n",
    "result_df = pd.DataFrame(data=results)\n",
    "\n",
    "sns.lineplot(data=result_df, x='n_init', y='acc')"
   ]
  },
  {
   "attachments": {},
   "cell_type": "markdown",
   "metadata": {},
   "source": [
    "###### max_iter\n",
    "Next, let's see what effect the max_iter hyperparameter has on our accuracy. Below I've trained a series of models with different values of max_iter and graphed the results. We can see that the default value of 300 is actually a local minimum of accuracy. We would be better off going either higher or lower. For performance reasons we may prefer the lower number but since our data set here is quite small, I'll move forward the higher value of 400 iterations."
   ]
  },
  {
   "cell_type": "code",
   "execution_count": 33,
   "metadata": {},
   "outputs": [
    {
     "data": {
      "text/plain": [
       "<AxesSubplot:xlabel='max_iters', ylabel='acc'>"
      ]
     },
     "execution_count": 33,
     "metadata": {},
     "output_type": "execute_result"
    },
    {
     "data": {
      "image/png": "[encoded data removed]",
      "text/plain": [
       "<Figure size 432x288 with 1 Axes>"
      ]
     },
     "metadata": {
      "needs_background": "light"
     },
     "output_type": "display_data"
    }
   ],
   "source": [
    "# experimenting with max_iter values\n",
    "\n",
    "iters = 500\n",
    "\n",
    "ht_accs = []\n",
    "\n",
    "for i in range(100, iters, 50):\n",
    "    ht_mod = KMeans(n_clusters=3, n_init=10,max_iter=iters).fit(df[:len(df)//2][tsvd_feature_list[:4]+['pos','neg']])\n",
    "    ht_preds = ht_mod.predict(df[len(df)//2:][tsvd_feature_list[:4]+['pos','neg']])\n",
    "    ht_accs.append(label_permute_compare(df[len(df)//2:], ht_preds)[1])\n",
    "\n",
    "\n",
    "results = {'max_iters':list(range(100,500,50)), 'acc': ht_accs}\n",
    "result_df = pd.DataFrame(data=results)\n",
    "\n",
    "sns.lineplot(data=result_df, x='max_iters', y='acc')"
   ]
  },
  {
   "attachments": {},
   "cell_type": "markdown",
   "metadata": {},
   "source": [
    "###### Algorithm Selection\n",
    "Now, with n_init set to 10 and max_iter set to 400 we can test the accuracy of the two different algorithm choices: Lloyd and Elkan. I've trained two sets of models below, one set with Lloyd and then other using the Elkan algorith. I've trained 500 models each and saved their accuracies."
   ]
  },
  {
   "cell_type": "code",
   "execution_count": 57,
   "metadata": {},
   "outputs": [],
   "source": [
    "l_ht_accs = []\n",
    "e_ht_accs = []\n",
    "\n",
    "for i in range(500):\n",
    "    # lloyd model\n",
    "    l_ht_mod = KMeans(n_clusters=3, n_init=10,max_iter=400, algorithm='lloyd').fit(df[:len(df)//2][tsvd_feature_list[:4]+['pos','neg']])\n",
    "    l_ht_preds = l_ht_mod.predict(df[len(df)//2:][tsvd_feature_list[:4]+['pos','neg']])\n",
    "    l_ht_accs.append(label_permute_compare(df[len(df)//2:], l_ht_preds)[1])\n",
    "\n",
    "    # elkan model\n",
    "    e_ht_mod = KMeans(n_clusters=3, n_init=10,max_iter=400, algorithm='elkan').fit(df[:len(df)//2][tsvd_feature_list[:4]+['pos','neg']])\n",
    "    e_ht_preds = e_ht_mod.predict(df[len(df)//2:][tsvd_feature_list[:4]+['pos','neg']])\n",
    "    e_ht_accs.append(label_permute_compare(df[len(df)//2:], e_ht_preds)[1])"
   ]
  },
  {
   "attachments": {},
   "cell_type": "markdown",
   "metadata": {},
   "source": [
    "I've printed the average accuracies below as well as a box plot of acccuracies. We can see that the average accuracy (either mean or median) does not differ subtantially and the range of accuracy is also nearly identical."
   ]
  },
  {
   "cell_type": "code",
   "execution_count": 59,
   "metadata": {},
   "outputs": [
    {
     "name": "stdout",
     "output_type": "stream",
     "text": [
      "Mean Lloyd Accuracy: 0.447\n",
      "Mean Elkan Accuracy: 0.446\n",
      "\n",
      "Median Lloyd Accuracy: 0.459\n",
      "Median Elkan Accuracy: 0.459\n"
     ]
    },
    {
     "data": {
      "text/plain": [
       "<AxesSubplot:>"
      ]
     },
     "execution_count": 59,
     "metadata": {},
     "output_type": "execute_result"
    },
    {
     "data": {
      "image/png": "[encoded data removed]",
      "text/plain": [
       "<Figure size 432x288 with 1 Axes>"
      ]
     },
     "metadata": {
      "needs_background": "light"
     },
     "output_type": "display_data"
    }
   ],
   "source": [
    "ht_dict = {'lloyd': l_ht_accs, 'elkan': e_ht_accs}\n",
    "ht_df = pd.DataFrame(ht_dict)\n",
    "\n",
    "print(\"Mean Lloyd Accuracy: \" + str(round(np.mean(l_ht_accs),3)))\n",
    "print(\"Mean Elkan Accuracy: \" + str(round(np.mean(e_ht_accs),3)) + '\\n')\n",
    "\n",
    "print(\"Median Lloyd Accuracy: \" + str(round(np.median(l_ht_accs),3)))\n",
    "print(\"Median Elkan Accuracy: \" + str(round(np.median(e_ht_accs),3)))\n",
    "\n",
    "\n",
    "sns.boxplot(\n",
    "    data= [l_ht_accs, e_ht_accs],\n",
    "    orient='h',\n",
    "    width = .5,\n",
    ")"
   ]
  },
  {
   "attachments": {},
   "cell_type": "markdown",
   "metadata": {},
   "source": [
    "#### Final Unsupervised Model\n",
    "\n",
    "So, we have a final model. This is a KMeans model using four components of the TSVD matrix and the positive and negative sentiment scores. The hyperparameters are n_init = 10, max_iter = 400, and algorith, finding no substantial difference between the two options, we will leave as the default: Lloyd.\n",
    "\n",
    "Let's take a look at some of the features of this model. I've trained a fresh single model below."
   ]
  },
  {
   "cell_type": "code",
   "execution_count": 69,
   "metadata": {},
   "outputs": [
    {
     "name": "stdout",
     "output_type": "stream",
     "text": [
      "Accuracy of single iteration of final model: 0.459\n"
     ]
    }
   ],
   "source": [
    "fin_mod = KMeans(n_clusters=3, n_init=10,max_iter=400, algorithm='lloyd').fit(df[:len(df)//2][tsvd_feature_list[:4]+['pos','neg']])\n",
    "fin_preds = fin_mod.predict(df[len(df)//2:][tsvd_feature_list[:4]+['pos','neg']])\n",
    "fin_acc = label_permute_compare(df[len(df)//2:], fin_preds)[1]\n",
    "\n",
    "print(\"Accuracy of single iteration of final model: \" + str(round(fin_acc,3)))"
   ]
  },
  {
   "attachments": {},
   "cell_type": "markdown",
   "metadata": {},
   "source": [
    "##### Visualizing the Final Model\n",
    "\n",
    "The accuracy is nothing to be excited about, so let's explore the clustering that the model is performing. Below, I've appended the predicted labels to our original data frame. Note that these labels are not necessarily the same labels as I originally assigned. For example, the model may be assigning Theravada to 1 rather than 0. That's ok for now, we just want to see what the cluster it's finding look like compared to our original visualizations."
   ]
  },
  {
   "cell_type": "code",
   "execution_count": 70,
   "metadata": {},
   "outputs": [
    {
     "data": {
      "text/html": [
       "<div>\n",
       "<style scoped>\n",
       "    .dataframe tbody tr th:only-of-type {\n",
       "        vertical-align: middle;\n",
       "    }\n",
       "\n",
       "    .dataframe tbody tr th {\n",
       "        vertical-align: top;\n",
       "    }\n",
       "\n",
       "    .dataframe thead th {\n",
       "        text-align: right;\n",
       "    }\n",
       "</style>\n",
       "<table border=\"1\" class=\"dataframe\">\n",
       "  <thead>\n",
       "    <tr style=\"text-align: right;\">\n",
       "      <th></th>\n",
       "      <th>text</th>\n",
       "      <th>branch</th>\n",
       "      <th>tsvd_0</th>\n",
       "      <th>tsvd_1</th>\n",
       "      <th>tsvd_2</th>\n",
       "      <th>tsvd_3</th>\n",
       "      <th>tsvd_4</th>\n",
       "      <th>neg</th>\n",
       "      <th>pos</th>\n",
       "      <th>neu</th>\n",
       "      <th>compound</th>\n",
       "      <th>pred</th>\n",
       "    </tr>\n",
       "  </thead>\n",
       "  <tbody>\n",
       "    <tr>\n",
       "      <th>0</th>\n",
       "      <td>become of Tārā and know peace.6\\nHaving overco...</td>\n",
       "      <td>2</td>\n",
       "      <td>0.914625</td>\n",
       "      <td>-0.208841</td>\n",
       "      <td>0.137321</td>\n",
       "      <td>0.078535</td>\n",
       "      <td>-0.011552</td>\n",
       "      <td>0.052</td>\n",
       "      <td>0.247</td>\n",
       "      <td>0.702</td>\n",
       "      <td>0.9948</td>\n",
       "      <td>0</td>\n",
       "    </tr>\n",
       "    <tr>\n",
       "      <th>1</th>\n",
       "      <td>rākṣasas, the world of ghosts,\\nVarious maiden...</td>\n",
       "      <td>2</td>\n",
       "      <td>0.866004</td>\n",
       "      <td>-0.278414</td>\n",
       "      <td>-0.080860</td>\n",
       "      <td>0.271481</td>\n",
       "      <td>0.088323</td>\n",
       "      <td>0.020</td>\n",
       "      <td>0.128</td>\n",
       "      <td>0.853</td>\n",
       "      <td>0.9812</td>\n",
       "      <td>0</td>\n",
       "    </tr>\n",
       "    <tr>\n",
       "      <th>2</th>\n",
       "      <td>their various desires, dispenses objects of am...</td>\n",
       "      <td>1</td>\n",
       "      <td>0.887415</td>\n",
       "      <td>-0.301707</td>\n",
       "      <td>0.039963</td>\n",
       "      <td>0.177091</td>\n",
       "      <td>-0.081349</td>\n",
       "      <td>0.034</td>\n",
       "      <td>0.159</td>\n",
       "      <td>0.807</td>\n",
       "      <td>0.9801</td>\n",
       "      <td>0</td>\n",
       "    </tr>\n",
       "    <tr>\n",
       "      <th>3</th>\n",
       "      <td>the sensed, he conceives [himself as] the sens...</td>\n",
       "      <td>0</td>\n",
       "      <td>0.691123</td>\n",
       "      <td>0.614212</td>\n",
       "      <td>-0.100098</td>\n",
       "      <td>0.230946</td>\n",
       "      <td>-0.083030</td>\n",
       "      <td>0.000</td>\n",
       "      <td>0.057</td>\n",
       "      <td>0.943</td>\n",
       "      <td>0.9179</td>\n",
       "      <td>2</td>\n",
       "    </tr>\n",
       "    <tr>\n",
       "      <th>4</th>\n",
       "      <td>eight\\nhundred body benefits, and twelve hundr...</td>\n",
       "      <td>1</td>\n",
       "      <td>0.861192</td>\n",
       "      <td>-0.112357</td>\n",
       "      <td>-0.074138</td>\n",
       "      <td>0.197357</td>\n",
       "      <td>-0.028624</td>\n",
       "      <td>0.019</td>\n",
       "      <td>0.170</td>\n",
       "      <td>0.811</td>\n",
       "      <td>0.9840</td>\n",
       "      <td>0</td>\n",
       "    </tr>\n",
       "  </tbody>\n",
       "</table>\n",
       "</div>"
      ],
      "text/plain": [
       "                                                text  branch    tsvd_0  \\\n",
       "0  become of Tārā and know peace.6\\nHaving overco...       2  0.914625   \n",
       "1  rākṣasas, the world of ghosts,\\nVarious maiden...       2  0.866004   \n",
       "2  their various desires, dispenses objects of am...       1  0.887415   \n",
       "3  the sensed, he conceives [himself as] the sens...       0  0.691123   \n",
       "4  eight\\nhundred body benefits, and twelve hundr...       1  0.861192   \n",
       "\n",
       "     tsvd_1    tsvd_2    tsvd_3    tsvd_4    neg    pos    neu  compound  pred  \n",
       "0 -0.208841  0.137321  0.078535 -0.011552  0.052  0.247  0.702    0.9948     0  \n",
       "1 -0.278414 -0.080860  0.271481  0.088323  0.020  0.128  0.853    0.9812     0  \n",
       "2 -0.301707  0.039963  0.177091 -0.081349  0.034  0.159  0.807    0.9801     0  \n",
       "3  0.614212 -0.100098  0.230946 -0.083030  0.000  0.057  0.943    0.9179     2  \n",
       "4 -0.112357 -0.074138  0.197357 -0.028624  0.019  0.170  0.811    0.9840     0  "
      ]
     },
     "execution_count": 70,
     "metadata": {},
     "output_type": "execute_result"
    }
   ],
   "source": [
    "df['pred'] = fin_mod.predict(df[tsvd_feature_list[:4]+['pos','neg']])\n",
    "\n",
    "df.head()"
   ]
  },
  {
   "attachments": {},
   "cell_type": "markdown",
   "metadata": {},
   "source": [
    "Recall that this is the true distribution of labels using the first two components of the TSVD matrix."
   ]
  },
  {
   "cell_type": "code",
   "execution_count": 71,
   "metadata": {},
   "outputs": [
    {
     "data": {
      "text/plain": [
       "<AxesSubplot:xlabel='tsvd_0', ylabel='tsvd_1'>"
      ]
     },
     "execution_count": 71,
     "metadata": {},
     "output_type": "execute_result"
    },
    {
     "data": {
      "image/png": "[encoded data removed]",
      "text/plain": [
       "<Figure size 432x288 with 1 Axes>"
      ]
     },
     "metadata": {
      "needs_background": "light"
     },
     "output_type": "display_data"
    }
   ],
   "source": [
    "sns.scatterplot(\n",
    "    data=df,\n",
    "    x= 'tsvd_0',\n",
    "    y= 'tsvd_1',\n",
    "    hue='branch',\n",
    "    palette='colorblind',\n",
    "    style='branch'\n",
    ")"
   ]
  },
  {
   "attachments": {},
   "cell_type": "markdown",
   "metadata": {},
   "source": [
    "And here is what our model predicts."
   ]
  },
  {
   "cell_type": "code",
   "execution_count": 72,
   "metadata": {},
   "outputs": [
    {
     "data": {
      "text/plain": [
       "<AxesSubplot:xlabel='tsvd_0', ylabel='tsvd_1'>"
      ]
     },
     "execution_count": 72,
     "metadata": {},
     "output_type": "execute_result"
    },
    {
     "data": {
      "image/png": "[encoded data removed]",
      "text/plain": [
       "<Figure size 432x288 with 1 Axes>"
      ]
     },
     "metadata": {
      "needs_background": "light"
     },
     "output_type": "display_data"
    }
   ],
   "source": [
    "sns.scatterplot(\n",
    "    data=df,\n",
    "    x= 'tsvd_0',\n",
    "    y= 'tsvd_1',\n",
    "    hue='pred',\n",
    "    palette='colorblind',\n",
    "    style='pred'\n",
    ")"
   ]
  },
  {
   "attachments": {},
   "cell_type": "markdown",
   "metadata": {},
   "source": [
    "Visually, we're that far off. Let's look at the sentiment scores. Again, here is the original scatter plot using positive and negative sentiments with the true labels."
   ]
  },
  {
   "cell_type": "code",
   "execution_count": 73,
   "metadata": {},
   "outputs": [
    {
     "data": {
      "text/plain": [
       "<AxesSubplot:xlabel='pos', ylabel='neg'>"
      ]
     },
     "execution_count": 73,
     "metadata": {},
     "output_type": "execute_result"
    },
    {
     "data": {
      "image/png": "[encoded data removed]",
      "text/plain": [
       "<Figure size 432x288 with 1 Axes>"
      ]
     },
     "metadata": {
      "needs_background": "light"
     },
     "output_type": "display_data"
    }
   ],
   "source": [
    "sns.scatterplot(\n",
    "    data=df,\n",
    "    x= 'pos',\n",
    "    y= 'neg',\n",
    "    hue='branch',\n",
    "    palette='colorblind',\n",
    "    style='branch'\n",
    ")"
   ]
  },
  {
   "attachments": {},
   "cell_type": "markdown",
   "metadata": {},
   "source": [
    "And here's that graph using the predictions from our model. Again, we're definitely in the ball park though not as accurate as we might like."
   ]
  },
  {
   "cell_type": "code",
   "execution_count": 75,
   "metadata": {},
   "outputs": [
    {
     "data": {
      "text/plain": [
       "<AxesSubplot:xlabel='pos', ylabel='neg'>"
      ]
     },
     "execution_count": 75,
     "metadata": {},
     "output_type": "execute_result"
    },
    {
     "data": {
      "image/png": "[encoded data removed]",
      "text/plain": [
       "<Figure size 432x288 with 1 Axes>"
      ]
     },
     "metadata": {
      "needs_background": "light"
     },
     "output_type": "display_data"
    }
   ],
   "source": [
    "sns.scatterplot(\n",
    "    data=df,\n",
    "    x= 'pos',\n",
    "    y= 'neg',\n",
    "    hue='pred',\n",
    "    palette='colorblind',\n",
    "    style='pred'\n",
    ")"
   ]
  },
  {
   "attachments": {},
   "cell_type": "markdown",
   "metadata": {},
   "source": [
    "### Supervised Models\n",
    "\n",
    "Let's take a look now at supervised models. Below, I've trained a supervised K-Nearest Neighbors model on our data set. We can see that "
   ]
  },
  {
   "cell_type": "code",
   "execution_count": 77,
   "metadata": {},
   "outputs": [],
   "source": [
    "from sklearn.neighbors import KNeighborsClassifier"
   ]
  },
  {
   "cell_type": "code",
   "execution_count": 79,
   "metadata": {},
   "outputs": [
    {
     "name": "stdout",
     "output_type": "stream",
     "text": [
      "Accuracy of Supervised KNeighbor Model: 0.595\n"
     ]
    }
   ],
   "source": [
    "sup_mod = KNeighborsClassifier().fit(df[:len(df)//2][tsvd_feature_list[:4] + ['pos','neg']], df[:len(df)//2]['branch'])\n",
    "\n",
    "sup_pred = sup_mod.predict(df[len(df)//2:][tsvd_feature_list[:4] + ['pos','neg']])\n",
    "\n",
    "sup_acc = accuracy_score(sup_pred, df[len(df)//2:]['branch'])\n",
    "\n",
    "print(\"Accuracy of Supervised KNeighbor Model: \" + str(round(sup_acc,3)))"
   ]
  },
  {
   "cell_type": "code",
   "execution_count": null,
   "metadata": {},
   "outputs": [],
   "source": []
  }
 ],
 "metadata": {
  "kernelspec": {
   "display_name": "Python 3",
   "language": "python",
   "name": "python3"
  },
  "language_info": {
   "codemirror_mode": {
    "name": "ipython",
    "version": 3
   },
   "file_extension": ".py",
   "mimetype": "text/x-python",
   "name": "python",
   "nbconvert_exporter": "python",
   "pygments_lexer": "ipython3",
   "version": "3.10.6"
  },
  "orig_nbformat": 4
 },
 "nbformat": 4,
 "nbformat_minor": 2
}
